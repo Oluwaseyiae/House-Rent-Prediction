{
 "cells": [
  {
   "cell_type": "markdown",
   "id": "e2f4610a-e14c-44d6-91d2-90e63711d798",
   "metadata": {},
   "source": [
    "## Import the libraries"
   ]
  },
  {
   "cell_type": "code",
   "execution_count": 2,
   "id": "bb39cdf9-e4cd-4e07-b459-0e2fad19c5e3",
   "metadata": {},
   "outputs": [],
   "source": [
    "import numpy as np\n",
    "import pandas as pd\n",
    "import matplotlib.pyplot as plt\n",
    "import seaborn as sns\n",
    "\n",
    "sns.set()"
   ]
  },
  {
   "cell_type": "markdown",
   "id": "418404b0-93ae-4cac-883e-d80fabbb272b",
   "metadata": {},
   "source": [
    "## Import the dataset"
   ]
  },
  {
   "cell_type": "code",
   "execution_count": 4,
   "id": "3228d725-8e2b-47fa-88e9-ccdc958da058",
   "metadata": {},
   "outputs": [],
   "source": [
    "dataset = pd.read_csv(\"House_Rent_Dataset.csv\")"
   ]
  },
  {
   "cell_type": "markdown",
   "id": "3cc7abbb-d7ff-4d3f-9399-431c690fa138",
   "metadata": {},
   "source": [
    "## Dataset Preprocessing"
   ]
  },
  {
   "cell_type": "markdown",
   "id": "e0b00e55-2b85-4077-a983-f9a9e4f5a030",
   "metadata": {},
   "source": [
    "### Converting \"Posted On\" to datetime formart"
   ]
  },
  {
   "cell_type": "code",
   "execution_count": 7,
   "id": "b39465e3-2e90-4f54-a2bb-1f634ecc9f25",
   "metadata": {},
   "outputs": [],
   "source": [
    "dataset['Posted On'] = pd.to_datetime(dataset['Posted On'], format='%d/%m/%Y')"
   ]
  },
  {
   "cell_type": "markdown",
   "id": "a14aa11d-a7c5-4d03-9414-ac43c2ac2847",
   "metadata": {},
   "source": [
    "### Split \"Floor\" into \"Current Floor\" and \"Total Floors\" as numeric columns."
   ]
  },
  {
   "cell_type": "code",
   "execution_count": 9,
   "id": "f6e4206f-7db9-4d16-bf37-d66dcb7f30cb",
   "metadata": {
    "scrolled": true
   },
   "outputs": [
    {
     "data": {
      "text/html": [
       "<div>\n",
       "<style scoped>\n",
       "    .dataframe tbody tr th:only-of-type {\n",
       "        vertical-align: middle;\n",
       "    }\n",
       "\n",
       "    .dataframe tbody tr th {\n",
       "        vertical-align: top;\n",
       "    }\n",
       "\n",
       "    .dataframe thead th {\n",
       "        text-align: right;\n",
       "    }\n",
       "</style>\n",
       "<table border=\"1\" class=\"dataframe\">\n",
       "  <thead>\n",
       "    <tr style=\"text-align: right;\">\n",
       "      <th></th>\n",
       "      <th>Posted On</th>\n",
       "      <th>Rent</th>\n",
       "      <th>BHK</th>\n",
       "      <th>Bathroom</th>\n",
       "      <th>Size</th>\n",
       "      <th>Area Type</th>\n",
       "      <th>Area Locality</th>\n",
       "      <th>City</th>\n",
       "      <th>Furnishing Status</th>\n",
       "      <th>Tenant Preferred</th>\n",
       "      <th>Point of Contact</th>\n",
       "      <th>Current_Floor</th>\n",
       "      <th>Total_Floors</th>\n",
       "    </tr>\n",
       "  </thead>\n",
       "  <tbody>\n",
       "    <tr>\n",
       "      <th>0</th>\n",
       "      <td>2022-05-18</td>\n",
       "      <td>10000</td>\n",
       "      <td>2</td>\n",
       "      <td>2</td>\n",
       "      <td>1100</td>\n",
       "      <td>Super Area</td>\n",
       "      <td>Bandel</td>\n",
       "      <td>Kolkata</td>\n",
       "      <td>Unfurnished</td>\n",
       "      <td>Bachelors/Family</td>\n",
       "      <td>Contact Owner</td>\n",
       "      <td>0.0</td>\n",
       "      <td>2.0</td>\n",
       "    </tr>\n",
       "    <tr>\n",
       "      <th>1</th>\n",
       "      <td>2022-05-13</td>\n",
       "      <td>20000</td>\n",
       "      <td>2</td>\n",
       "      <td>1</td>\n",
       "      <td>800</td>\n",
       "      <td>Super Area</td>\n",
       "      <td>Phool Bagan, Kankurgachi</td>\n",
       "      <td>Kolkata</td>\n",
       "      <td>Semi-Furnished</td>\n",
       "      <td>Bachelors/Family</td>\n",
       "      <td>Contact Owner</td>\n",
       "      <td>1.0</td>\n",
       "      <td>3.0</td>\n",
       "    </tr>\n",
       "    <tr>\n",
       "      <th>2</th>\n",
       "      <td>2022-05-16</td>\n",
       "      <td>17000</td>\n",
       "      <td>2</td>\n",
       "      <td>1</td>\n",
       "      <td>1000</td>\n",
       "      <td>Super Area</td>\n",
       "      <td>Salt Lake City Sector 2</td>\n",
       "      <td>Kolkata</td>\n",
       "      <td>Semi-Furnished</td>\n",
       "      <td>Bachelors/Family</td>\n",
       "      <td>Contact Owner</td>\n",
       "      <td>1.0</td>\n",
       "      <td>3.0</td>\n",
       "    </tr>\n",
       "    <tr>\n",
       "      <th>3</th>\n",
       "      <td>2022-07-04</td>\n",
       "      <td>10000</td>\n",
       "      <td>2</td>\n",
       "      <td>1</td>\n",
       "      <td>800</td>\n",
       "      <td>Super Area</td>\n",
       "      <td>Dumdum Park</td>\n",
       "      <td>Kolkata</td>\n",
       "      <td>Unfurnished</td>\n",
       "      <td>Bachelors/Family</td>\n",
       "      <td>Contact Owner</td>\n",
       "      <td>1.0</td>\n",
       "      <td>2.0</td>\n",
       "    </tr>\n",
       "    <tr>\n",
       "      <th>4</th>\n",
       "      <td>2022-05-09</td>\n",
       "      <td>7500</td>\n",
       "      <td>2</td>\n",
       "      <td>1</td>\n",
       "      <td>850</td>\n",
       "      <td>Carpet Area</td>\n",
       "      <td>South Dum Dum</td>\n",
       "      <td>Kolkata</td>\n",
       "      <td>Unfurnished</td>\n",
       "      <td>Bachelors</td>\n",
       "      <td>Contact Owner</td>\n",
       "      <td>1.0</td>\n",
       "      <td>2.0</td>\n",
       "    </tr>\n",
       "    <tr>\n",
       "      <th>...</th>\n",
       "      <td>...</td>\n",
       "      <td>...</td>\n",
       "      <td>...</td>\n",
       "      <td>...</td>\n",
       "      <td>...</td>\n",
       "      <td>...</td>\n",
       "      <td>...</td>\n",
       "      <td>...</td>\n",
       "      <td>...</td>\n",
       "      <td>...</td>\n",
       "      <td>...</td>\n",
       "      <td>...</td>\n",
       "      <td>...</td>\n",
       "    </tr>\n",
       "    <tr>\n",
       "      <th>4741</th>\n",
       "      <td>2022-05-18</td>\n",
       "      <td>15000</td>\n",
       "      <td>2</td>\n",
       "      <td>2</td>\n",
       "      <td>1000</td>\n",
       "      <td>Carpet Area</td>\n",
       "      <td>Bandam Kommu</td>\n",
       "      <td>Hyderabad</td>\n",
       "      <td>Semi-Furnished</td>\n",
       "      <td>Bachelors/Family</td>\n",
       "      <td>Contact Owner</td>\n",
       "      <td>3.0</td>\n",
       "      <td>5.0</td>\n",
       "    </tr>\n",
       "    <tr>\n",
       "      <th>4742</th>\n",
       "      <td>2022-05-15</td>\n",
       "      <td>29000</td>\n",
       "      <td>3</td>\n",
       "      <td>3</td>\n",
       "      <td>2000</td>\n",
       "      <td>Super Area</td>\n",
       "      <td>Manikonda, Hyderabad</td>\n",
       "      <td>Hyderabad</td>\n",
       "      <td>Semi-Furnished</td>\n",
       "      <td>Bachelors/Family</td>\n",
       "      <td>Contact Owner</td>\n",
       "      <td>1.0</td>\n",
       "      <td>4.0</td>\n",
       "    </tr>\n",
       "    <tr>\n",
       "      <th>4743</th>\n",
       "      <td>2022-07-10</td>\n",
       "      <td>35000</td>\n",
       "      <td>3</td>\n",
       "      <td>3</td>\n",
       "      <td>1750</td>\n",
       "      <td>Carpet Area</td>\n",
       "      <td>Himayath Nagar, NH 7</td>\n",
       "      <td>Hyderabad</td>\n",
       "      <td>Semi-Furnished</td>\n",
       "      <td>Bachelors/Family</td>\n",
       "      <td>Contact Agent</td>\n",
       "      <td>3.0</td>\n",
       "      <td>5.0</td>\n",
       "    </tr>\n",
       "    <tr>\n",
       "      <th>4744</th>\n",
       "      <td>2022-07-06</td>\n",
       "      <td>45000</td>\n",
       "      <td>3</td>\n",
       "      <td>2</td>\n",
       "      <td>1500</td>\n",
       "      <td>Carpet Area</td>\n",
       "      <td>Gachibowli</td>\n",
       "      <td>Hyderabad</td>\n",
       "      <td>Semi-Furnished</td>\n",
       "      <td>Family</td>\n",
       "      <td>Contact Agent</td>\n",
       "      <td>23.0</td>\n",
       "      <td>34.0</td>\n",
       "    </tr>\n",
       "    <tr>\n",
       "      <th>4745</th>\n",
       "      <td>2022-05-04</td>\n",
       "      <td>15000</td>\n",
       "      <td>2</td>\n",
       "      <td>2</td>\n",
       "      <td>1000</td>\n",
       "      <td>Carpet Area</td>\n",
       "      <td>Suchitra Circle</td>\n",
       "      <td>Hyderabad</td>\n",
       "      <td>Unfurnished</td>\n",
       "      <td>Bachelors</td>\n",
       "      <td>Contact Owner</td>\n",
       "      <td>4.0</td>\n",
       "      <td>5.0</td>\n",
       "    </tr>\n",
       "  </tbody>\n",
       "</table>\n",
       "<p>4746 rows × 13 columns</p>\n",
       "</div>"
      ],
      "text/plain": [
       "      Posted On   Rent  BHK  Bathroom  Size    Area Type  \\\n",
       "0    2022-05-18  10000    2         2  1100   Super Area   \n",
       "1    2022-05-13  20000    2         1   800   Super Area   \n",
       "2    2022-05-16  17000    2         1  1000   Super Area   \n",
       "3    2022-07-04  10000    2         1   800   Super Area   \n",
       "4    2022-05-09   7500    2         1   850  Carpet Area   \n",
       "...         ...    ...  ...       ...   ...          ...   \n",
       "4741 2022-05-18  15000    2         2  1000  Carpet Area   \n",
       "4742 2022-05-15  29000    3         3  2000   Super Area   \n",
       "4743 2022-07-10  35000    3         3  1750  Carpet Area   \n",
       "4744 2022-07-06  45000    3         2  1500  Carpet Area   \n",
       "4745 2022-05-04  15000    2         2  1000  Carpet Area   \n",
       "\n",
       "                 Area Locality       City Furnishing Status  Tenant Preferred  \\\n",
       "0                       Bandel    Kolkata       Unfurnished  Bachelors/Family   \n",
       "1     Phool Bagan, Kankurgachi    Kolkata    Semi-Furnished  Bachelors/Family   \n",
       "2      Salt Lake City Sector 2    Kolkata    Semi-Furnished  Bachelors/Family   \n",
       "3                  Dumdum Park    Kolkata       Unfurnished  Bachelors/Family   \n",
       "4                South Dum Dum    Kolkata       Unfurnished         Bachelors   \n",
       "...                        ...        ...               ...               ...   \n",
       "4741              Bandam Kommu  Hyderabad    Semi-Furnished  Bachelors/Family   \n",
       "4742      Manikonda, Hyderabad  Hyderabad    Semi-Furnished  Bachelors/Family   \n",
       "4743      Himayath Nagar, NH 7  Hyderabad    Semi-Furnished  Bachelors/Family   \n",
       "4744                Gachibowli  Hyderabad    Semi-Furnished            Family   \n",
       "4745           Suchitra Circle  Hyderabad       Unfurnished         Bachelors   \n",
       "\n",
       "     Point of Contact  Current_Floor  Total_Floors  \n",
       "0       Contact Owner            0.0           2.0  \n",
       "1       Contact Owner            1.0           3.0  \n",
       "2       Contact Owner            1.0           3.0  \n",
       "3       Contact Owner            1.0           2.0  \n",
       "4       Contact Owner            1.0           2.0  \n",
       "...               ...            ...           ...  \n",
       "4741    Contact Owner            3.0           5.0  \n",
       "4742    Contact Owner            1.0           4.0  \n",
       "4743    Contact Agent            3.0           5.0  \n",
       "4744    Contact Agent           23.0          34.0  \n",
       "4745    Contact Owner            4.0           5.0  \n",
       "\n",
       "[4746 rows x 13 columns]"
      ]
     },
     "execution_count": 9,
     "metadata": {},
     "output_type": "execute_result"
    }
   ],
   "source": [
    "# Extracting numeric values from the \"Floor\" column\n",
    "floor_split = dataset[\"Floor\"].str.extract(r'(?P<Current_Floor>\\d+|Ground)\\s+out of\\s+(?P<Total_Floors>\\d+)', expand=True)\n",
    "\n",
    "# Replace \"Ground\" with 0 for numerical representation\n",
    "floor_split['Current_Floor'] = floor_split['Current_Floor'].replace('Ground', 0).astype(float)\n",
    "floor_split['Total_Floors'] = floor_split['Total_Floors'].astype(float)\n",
    "\n",
    "# Add the new columns to the dataset and drop the original \"Floor\" column\n",
    "dataset = dataset.join(floor_split).drop(columns=['Floor'])\n",
    "\n",
    "dataset"
   ]
  },
  {
   "cell_type": "markdown",
   "id": "1c736c75-d2e6-4122-84b0-3739f23687a5",
   "metadata": {},
   "source": [
    "### Check for duplicates or outliers in key columns"
   ]
  },
  {
   "cell_type": "code",
   "execution_count": 34,
   "id": "31fe1f8b-e613-4c81-95f3-b18f24f18b0d",
   "metadata": {},
   "outputs": [
    {
     "data": {
      "text/plain": [
       "(0,\n",
       " count    4.746000e+03\n",
       " mean     3.499345e+04\n",
       " std      7.810641e+04\n",
       " min      1.200000e+03\n",
       " 25%      1.000000e+04\n",
       " 50%      1.600000e+04\n",
       " 75%      3.300000e+04\n",
       " max      3.500000e+06\n",
       " Name: Rent, dtype: float64)"
      ]
     },
     "execution_count": 34,
     "metadata": {},
     "output_type": "execute_result"
    }
   ],
   "source": [
    "duplicate = dataset.duplicated().sum()\n",
    "duplicate, dataset['Rent'].describe()"
   ]
  },
  {
   "cell_type": "markdown",
   "id": "4eabe0d6-927d-4e46-9e64-2adf0489d6c4",
   "metadata": {},
   "source": [
    "### Encoding Binary Categorical data"
   ]
  },
  {
   "cell_type": "code",
   "execution_count": 13,
   "id": "b420dd25-b5fd-4bf1-a900-7c93216e1f0b",
   "metadata": {},
   "outputs": [
    {
     "data": {
      "text/plain": [
       "{'Area Type': array(['Super Area', 'Carpet Area', 'Built Area'], dtype=object),\n",
       " 'City': array(['Kolkata', 'Mumbai', 'Bangalore', 'Delhi', 'Chennai', 'Hyderabad'],\n",
       "       dtype=object),\n",
       " 'Furnishing Status': array(['Unfurnished', 'Semi-Furnished', 'Furnished'], dtype=object),\n",
       " 'Tenant Preferred': array(['Bachelors/Family', 'Bachelors', 'Family'], dtype=object),\n",
       " 'Point of Contact': array(['Contact Owner', 'Contact Agent', 'Contact Builder'], dtype=object)}"
      ]
     },
     "execution_count": 13,
     "metadata": {},
     "output_type": "execute_result"
    }
   ],
   "source": [
    "categorical_features = ['Area Type', 'City', 'Furnishing Status', 'Tenant Preferred', 'Point of Contact']\n",
    "unique_values = {col:dataset[col].unique() for col in categorical_features}\n",
    "unique_values"
   ]
  },
  {
   "cell_type": "markdown",
   "id": "a78eac64-0122-49d1-9abf-86a74421e3ae",
   "metadata": {},
   "source": [
    "### Exploratory Data Analysis "
   ]
  },
  {
   "cell_type": "code",
   "execution_count": 36,
   "id": "c1f3091d-c6d5-4110-aabf-3ed7ab3f49b3",
   "metadata": {
    "scrolled": true
   },
   "outputs": [
    {
     "name": "stdout",
     "output_type": "stream",
     "text": [
      "               Rent          BHK     Bathroom         Size  Current_Floor  \\\n",
      "count  4.746000e+03  4746.000000  4746.000000  4746.000000    4708.000000   \n",
      "mean   3.499345e+04     2.083860     1.965866   967.490729       3.472387   \n",
      "std    7.810641e+04     0.832256     0.884532   634.202328       5.782390   \n",
      "min    1.200000e+03     1.000000     1.000000    10.000000       0.000000   \n",
      "25%    1.000000e+04     2.000000     1.000000   550.000000       1.000000   \n",
      "50%    1.600000e+04     2.000000     2.000000   850.000000       2.000000   \n",
      "75%    3.300000e+04     3.000000     2.000000  1200.000000       3.000000   \n",
      "max    3.500000e+06     6.000000    10.000000  8000.000000      76.000000   \n",
      "\n",
      "       Total_Floors  \n",
      "count   4708.000000  \n",
      "mean       6.954121  \n",
      "std        9.464211  \n",
      "min        1.000000  \n",
      "25%        2.000000  \n",
      "50%        4.000000  \n",
      "75%        6.000000  \n",
      "max       89.000000  \n"
     ]
    }
   ],
   "source": [
    "#Descriptive statistics for numerical columns\n",
    "numerical_columns = ['Rent', 'BHK', 'Bathroom', 'Size', 'Current_Floor', 'Total_Floors']\n",
    "numerical_stats = dataset[numerical_columns].describe()\n",
    "print(numerical_stats)"
   ]
  },
  {
   "cell_type": "markdown",
   "id": "1d1c083e-6418-43ce-8afa-8b971ae63a79",
   "metadata": {},
   "source": [
    "### Distribution of Rent and Size"
   ]
  },
  {
   "cell_type": "code",
   "execution_count": 17,
   "id": "e39e868a-cc92-4783-9f04-f0124da56896",
   "metadata": {},
   "outputs": [
    {
     "name": "stderr",
     "output_type": "stream",
     "text": [
      "C:\\Users\\user\\anaconda3\\Lib\\site-packages\\seaborn\\_oldcore.py:1119: FutureWarning: use_inf_as_na option is deprecated and will be removed in a future version. Convert inf values to NaN before operating instead.\n",
      "  with pd.option_context('mode.use_inf_as_na', True):\n",
      "C:\\Users\\user\\anaconda3\\Lib\\site-packages\\seaborn\\_oldcore.py:1119: FutureWarning: use_inf_as_na option is deprecated and will be removed in a future version. Convert inf values to NaN before operating instead.\n",
      "  with pd.option_context('mode.use_inf_as_na', True):\n"
     ]
    },
    {
     "data": {
      "image/png": "[encoded data removed]",
      "text/plain": [
       "<Figure size 1400x600 with 2 Axes>"
      ]
     },
     "metadata": {},
     "output_type": "display_data"
    }
   ],
   "source": [
    "plt.figure(figsize=(14, 6))\n",
    "\n",
    "# Rent Distribution\n",
    "plt.subplot(1, 2, 1)\n",
    "sns.histplot(dataset['Rent'], kde=True, bins=50, color='skyblue')\n",
    "plt.title('Distribution of Rent')\n",
    "plt.xlabel('Rent')\n",
    "plt.ylabel('Frequency')\n",
    "\n",
    "# Size Distribution\n",
    "plt.subplot(1, 2, 2)\n",
    "sns.histplot(dataset['Size'], kde=True, bins=50, color='salmon')\n",
    "plt.title('Distribution of Size')\n",
    "plt.xlabel('Size (sq ft)')\n",
    "plt.ylabel('Frequency')\n",
    "\n",
    "plt.tight_layout()\n",
    "plt.show()"
   ]
  },
  {
   "cell_type": "markdown",
   "id": "0b2c986d-3e9c-486a-976a-52c9a0275b9e",
   "metadata": {},
   "source": [
    "### Count plots for categorical variables"
   ]
  },
  {
   "cell_type": "code",
   "execution_count": 19,
   "id": "1f92be5c-749d-4124-9c2f-a4bdb5164a72",
   "metadata": {
    "scrolled": true
   },
   "outputs": [
    {
     "data": {
      "image/png": "[encoded data removed]",
      "text/plain": [
       "<Figure size 1600x1000 with 3 Axes>"
      ]
     },
     "metadata": {},
     "output_type": "display_data"
    }
   ],
   "source": [
    "plt.figure(figsize=(16, 10))\n",
    "\n",
    "# Area Type\n",
    "plt.subplot(2, 2, 1)\n",
    "sns.countplot(x='Area Type', data=dataset, palette='viridis')\n",
    "plt.title('Count of Area Types')\n",
    "plt.xlabel('Area Type')\n",
    "plt.ylabel('Count')\n",
    "\n",
    "# Furnishing Status\n",
    "plt.subplot(2, 2, 2)\n",
    "sns.countplot(x='Furnishing Status', data=dataset, palette='cool')\n",
    "plt.title('Count of Furnishing Status')\n",
    "plt.xlabel('Furnishing Status')\n",
    "plt.ylabel('Count')\n",
    "\n",
    "# City Distribution\n",
    "plt.subplot(2, 2, 3)\n",
    "sns.countplot(y='City', data=dataset, palette='plasma')\n",
    "plt.title('Distribution of Properties by City')\n",
    "plt.xlabel('Count')\n",
    "plt.ylabel('City')\n",
    "\n",
    "plt.tight_layout()\n",
    "plt.show()"
   ]
  },
  {
   "cell_type": "markdown",
   "id": "05959fdd-62b7-4b02-ac7d-7b3660b235a1",
   "metadata": {},
   "source": [
    "### Encoding categorical data"
   ]
  },
  {
   "cell_type": "code",
   "execution_count": 38,
   "id": "5e5e1bad-b815-4411-9e97-df4d6cc5c888",
   "metadata": {},
   "outputs": [],
   "source": [
    "from sklearn.preprocessing import OneHotEncoder, StandardScaler\n",
    "from sklearn.compose import ColumnTransformer\n",
    "\n",
    "\n",
    "# Identifying features and target\n",
    "target = 'Rent'\n",
    "categorical_features = ['Area Type', 'Furnishing Status', 'Tenant Preferred', 'City']\n",
    "numerical_features = ['Size', 'BHK', 'Bathroom']\n",
    "\n",
    "# Separate features and target\n",
    "X = dataset[categorical_features + numerical_features]\n",
    "y = dataset[target]\n",
    "\n",
    "# One-Hot Encode categorical variables and scale numerical features\n",
    "preprocessor = ColumnTransformer(\n",
    "    transformers=[\n",
    "        ('cat', OneHotEncoder(drop='first'), categorical_features),\n",
    "        ('num', StandardScaler(), numerical_features)\n",
    "    ])"
   ]
  },
  {
   "cell_type": "markdown",
   "id": "2dc9e23b-e236-4b32-975e-c6b05d2ff5a7",
   "metadata": {},
   "source": [
    "### Split dataset to train and test set"
   ]
  },
  {
   "cell_type": "code",
   "execution_count": 24,
   "id": "6569dc56-a2e4-4662-8d4a-608826d48871",
   "metadata": {},
   "outputs": [
    {
     "name": "stdout",
     "output_type": "stream",
     "text": [
      "(3322, 14) (1424, 14) (3322,) (1424,)\n"
     ]
    }
   ],
   "source": [
    "from sklearn.model_selection import train_test_split\n",
    "\n",
    "X_train, X_test, y_train, y_test = train_test_split(X, y, test_size= 0.3, random_state=42)\n",
    "\n",
    "# Apply transformations to the training and testing data\n",
    "X_train_processed = preprocessor.fit_transform(X_train)\n",
    "X_test_processed = preprocessor.transform(X_test)\n",
    "\n",
    "print(X_train_processed.shape, X_test_processed.shape, y_train.shape, y_test.shape)"
   ]
  },
  {
   "cell_type": "markdown",
   "id": "2497f0f9-ab09-45fc-a54e-6304c81ead7f",
   "metadata": {},
   "source": [
    "### Training the Multiple Linear Regression Model on  train set"
   ]
  },
  {
   "cell_type": "code",
   "execution_count": 26,
   "id": "1667e3d7-ed18-47fa-ad17-48a78b5748a8",
   "metadata": {},
   "outputs": [
    {
     "data": {
      "text/html": [
       "<style>#sk-container-id-1 {color: black;}#sk-container-id-1 pre{padding: 0;}#sk-container-id-1 div.sk-toggleable {background-color: white;}#sk-container-id-1 label.sk-toggleable__label {cursor: pointer;display: block;width: 100%;margin-bottom: 0;padding: 0.3em;box-sizing: border-box;text-align: center;}#sk-container-id-1 label.sk-toggleable__label-arrow:before {content: \"▸\";float: left;margin-right: 0.25em;color: #696969;}#sk-container-id-1 label.sk-toggleable__label-arrow:hover:before {color: black;}#sk-container-id-1 div.sk-estimator:hover label.sk-toggleable__label-arrow:before {color: black;}#sk-container-id-1 div.sk-toggleable__content {max-height: 0;max-width: 0;overflow: hidden;text-align: left;background-color: #f0f8ff;}#sk-container-id-1 div.sk-toggleable__content pre {margin: 0.2em;color: black;border-radius: 0.25em;background-color: #f0f8ff;}#sk-container-id-1 input.sk-toggleable__control:checked~div.sk-toggleable__content {max-height: 200px;max-width: 100%;overflow: auto;}#sk-container-id-1 input.sk-toggleable__control:checked~label.sk-toggleable__label-arrow:before {content: \"▾\";}#sk-container-id-1 div.sk-estimator input.sk-toggleable__control:checked~label.sk-toggleable__label {background-color: #d4ebff;}#sk-container-id-1 div.sk-label input.sk-toggleable__control:checked~label.sk-toggleable__label {background-color: #d4ebff;}#sk-container-id-1 input.sk-hidden--visually {border: 0;clip: rect(1px 1px 1px 1px);clip: rect(1px, 1px, 1px, 1px);height: 1px;margin: -1px;overflow: hidden;padding: 0;position: absolute;width: 1px;}#sk-container-id-1 div.sk-estimator {font-family: monospace;background-color: #f0f8ff;border: 1px dotted black;border-radius: 0.25em;box-sizing: border-box;margin-bottom: 0.5em;}#sk-container-id-1 div.sk-estimator:hover {background-color: #d4ebff;}#sk-container-id-1 div.sk-parallel-item::after {content: \"\";width: 100%;border-bottom: 1px solid gray;flex-grow: 1;}#sk-container-id-1 div.sk-label:hover label.sk-toggleable__label {background-color: #d4ebff;}#sk-container-id-1 div.sk-serial::before {content: \"\";position: absolute;border-left: 1px solid gray;box-sizing: border-box;top: 0;bottom: 0;left: 50%;z-index: 0;}#sk-container-id-1 div.sk-serial {display: flex;flex-direction: column;align-items: center;background-color: white;padding-right: 0.2em;padding-left: 0.2em;position: relative;}#sk-container-id-1 div.sk-item {position: relative;z-index: 1;}#sk-container-id-1 div.sk-parallel {display: flex;align-items: stretch;justify-content: center;background-color: white;position: relative;}#sk-container-id-1 div.sk-item::before, #sk-container-id-1 div.sk-parallel-item::before {content: \"\";position: absolute;border-left: 1px solid gray;box-sizing: border-box;top: 0;bottom: 0;left: 50%;z-index: -1;}#sk-container-id-1 div.sk-parallel-item {display: flex;flex-direction: column;z-index: 1;position: relative;background-color: white;}#sk-container-id-1 div.sk-parallel-item:first-child::after {align-self: flex-end;width: 50%;}#sk-container-id-1 div.sk-parallel-item:last-child::after {align-self: flex-start;width: 50%;}#sk-container-id-1 div.sk-parallel-item:only-child::after {width: 0;}#sk-container-id-1 div.sk-dashed-wrapped {border: 1px dashed gray;margin: 0 0.4em 0.5em 0.4em;box-sizing: border-box;padding-bottom: 0.4em;background-color: white;}#sk-container-id-1 div.sk-label label {font-family: monospace;font-weight: bold;display: inline-block;line-height: 1.2em;}#sk-container-id-1 div.sk-label-container {text-align: center;}#sk-container-id-1 div.sk-container {/* jupyter's `normalize.less` sets `[hidden] { display: none; }` but bootstrap.min.css set `[hidden] { display: none !important; }` so we also need the `!important` here to be able to override the default hidden behavior on the sphinx rendered scikit-learn.org. See: https://github.com/scikit-learn/scikit-learn/issues/21755 */display: inline-block !important;position: relative;}#sk-container-id-1 div.sk-text-repr-fallback {display: none;}</style><div id=\"sk-container-id-1\" class=\"sk-top-container\"><div class=\"sk-text-repr-fallback\"><pre>LinearRegression()</pre><b>In a Jupyter environment, please rerun this cell to show the HTML representation or trust the notebook. <br />On GitHub, the HTML representation is unable to render, please try loading this page with nbviewer.org.</b></div><div class=\"sk-container\" hidden><div class=\"sk-item\"><div class=\"sk-estimator sk-toggleable\"><input class=\"sk-toggleable__control sk-hidden--visually\" id=\"sk-estimator-id-1\" type=\"checkbox\" checked><label for=\"sk-estimator-id-1\" class=\"sk-toggleable__label sk-toggleable__label-arrow\">LinearRegression</label><div class=\"sk-toggleable__content\"><pre>LinearRegression()</pre></div></div></div></div></div>"
      ],
      "text/plain": [
       "LinearRegression()"
      ]
     },
     "execution_count": 26,
     "metadata": {},
     "output_type": "execute_result"
    }
   ],
   "source": [
    "from sklearn.linear_model import LinearRegression, Ridge, Lasso, ElasticNet, HuberRegressor\n",
    "\n",
    "regressor = LinearRegression()\n",
    "regressor.fit(X_train_processed, y_train) "
   ]
  },
  {
   "cell_type": "markdown",
   "id": "77cf1d0f-1fcf-41a4-b807-39dda71db14c",
   "metadata": {},
   "source": [
    "### Predicting Result"
   ]
  },
  {
   "cell_type": "code",
   "execution_count": 41,
   "id": "682b1ccf-4682-47f3-8065-08112ec99e52",
   "metadata": {},
   "outputs": [],
   "source": [
    "y_pred = regressor.predict(X_test_processed)"
   ]
  },
  {
   "cell_type": "markdown",
   "id": "8fc4c031-cdc4-4f7a-9d95-5e6842bb6f9f",
   "metadata": {},
   "source": [
    "### Evaluating the Model"
   ]
  },
  {
   "cell_type": "code",
   "execution_count": 46,
   "id": "35783a24-047a-400d-8f18-e10d29dffdb9",
   "metadata": {},
   "outputs": [
    {
     "data": {
      "text/plain": [
       "(22353.543083869336, 40333.92722441404, 0.5377480655919794)"
      ]
     },
     "execution_count": 46,
     "metadata": {},
     "output_type": "execute_result"
    }
   ],
   "source": [
    "from sklearn.metrics import mean_absolute_error, mean_squared_error, r2_score\n",
    "\n",
    "mae = mean_absolute_error(y_test, y_pred)\n",
    "rmse = np.sqrt(mean_squared_error(y_test, y_pred))\n",
    "r2 = r2_score(y_test, y_pred)\n",
    "mae, rmse, r2\n",
    "\n",
    "evaluation_comparison = pd.DataFrame({\n",
    "    \"Original Pice\": y_test,\n",
    "    \"Predicted Price\": y_pred\n",
    "})\n",
    "\n",
    "comparison_table = pd.DataFrame(list(predictions.items()), columns=['Model', 'Predicted Rent'])\n"
   ]
  },
  {
   "cell_type": "markdown",
   "id": "61ff4950-3765-465b-bbef-3dfc5e5e59f2",
   "metadata": {},
   "source": [
    "### Comparing the Original and Predicted Price"
   ]
  },
  {
   "cell_type": "code",
   "execution_count": 54,
   "id": "5136268f-ae9d-4690-b735-4a94da25992d",
   "metadata": {},
   "outputs": [
    {
     "data": {
      "text/html": [
       "<div>\n",
       "<style scoped>\n",
       "    .dataframe tbody tr th:only-of-type {\n",
       "        vertical-align: middle;\n",
       "    }\n",
       "\n",
       "    .dataframe tbody tr th {\n",
       "        vertical-align: top;\n",
       "    }\n",
       "\n",
       "    .dataframe thead th {\n",
       "        text-align: right;\n",
       "    }\n",
       "</style>\n",
       "<table border=\"1\" class=\"dataframe\">\n",
       "  <thead>\n",
       "    <tr style=\"text-align: right;\">\n",
       "      <th></th>\n",
       "      <th>Original Pice</th>\n",
       "      <th>Predicted Price</th>\n",
       "    </tr>\n",
       "  </thead>\n",
       "  <tbody>\n",
       "    <tr>\n",
       "      <th>1566</th>\n",
       "      <td>16000</td>\n",
       "      <td>30896</td>\n",
       "    </tr>\n",
       "    <tr>\n",
       "      <th>3159</th>\n",
       "      <td>12000</td>\n",
       "      <td>18477</td>\n",
       "    </tr>\n",
       "    <tr>\n",
       "      <th>538</th>\n",
       "      <td>28000</td>\n",
       "      <td>67717</td>\n",
       "    </tr>\n",
       "    <tr>\n",
       "      <th>2630</th>\n",
       "      <td>8000</td>\n",
       "      <td>75666</td>\n",
       "    </tr>\n",
       "    <tr>\n",
       "      <th>4418</th>\n",
       "      <td>46000</td>\n",
       "      <td>89673</td>\n",
       "    </tr>\n",
       "    <tr>\n",
       "      <th>4679</th>\n",
       "      <td>17000</td>\n",
       "      <td>15613</td>\n",
       "    </tr>\n",
       "    <tr>\n",
       "      <th>1181</th>\n",
       "      <td>57000</td>\n",
       "      <td>82395</td>\n",
       "    </tr>\n",
       "    <tr>\n",
       "      <th>1957</th>\n",
       "      <td>9500</td>\n",
       "      <td>15140</td>\n",
       "    </tr>\n",
       "    <tr>\n",
       "      <th>1344</th>\n",
       "      <td>400000</td>\n",
       "      <td>183739</td>\n",
       "    </tr>\n",
       "    <tr>\n",
       "      <th>3410</th>\n",
       "      <td>15000</td>\n",
       "      <td>4445</td>\n",
       "    </tr>\n",
       "    <tr>\n",
       "      <th>3814</th>\n",
       "      <td>10000</td>\n",
       "      <td>-7415</td>\n",
       "    </tr>\n",
       "    <tr>\n",
       "      <th>4080</th>\n",
       "      <td>12000</td>\n",
       "      <td>-2982</td>\n",
       "    </tr>\n",
       "    <tr>\n",
       "      <th>1588</th>\n",
       "      <td>27000</td>\n",
       "      <td>34595</td>\n",
       "    </tr>\n",
       "    <tr>\n",
       "      <th>2092</th>\n",
       "      <td>16000</td>\n",
       "      <td>-673</td>\n",
       "    </tr>\n",
       "    <tr>\n",
       "      <th>179</th>\n",
       "      <td>15000</td>\n",
       "      <td>36368</td>\n",
       "    </tr>\n",
       "    <tr>\n",
       "      <th>718</th>\n",
       "      <td>8500</td>\n",
       "      <td>47885</td>\n",
       "    </tr>\n",
       "    <tr>\n",
       "      <th>3792</th>\n",
       "      <td>140000</td>\n",
       "      <td>116535</td>\n",
       "    </tr>\n",
       "    <tr>\n",
       "      <th>4031</th>\n",
       "      <td>12000</td>\n",
       "      <td>-11183</td>\n",
       "    </tr>\n",
       "    <tr>\n",
       "      <th>4253</th>\n",
       "      <td>6000</td>\n",
       "      <td>6754</td>\n",
       "    </tr>\n",
       "    <tr>\n",
       "      <th>2323</th>\n",
       "      <td>60000</td>\n",
       "      <td>88950</td>\n",
       "    </tr>\n",
       "    <tr>\n",
       "      <th>1894</th>\n",
       "      <td>38000</td>\n",
       "      <td>42890</td>\n",
       "    </tr>\n",
       "    <tr>\n",
       "      <th>4197</th>\n",
       "      <td>7500</td>\n",
       "      <td>-24813</td>\n",
       "    </tr>\n",
       "    <tr>\n",
       "      <th>555</th>\n",
       "      <td>23000</td>\n",
       "      <td>57771</td>\n",
       "    </tr>\n",
       "    <tr>\n",
       "      <th>3439</th>\n",
       "      <td>14000</td>\n",
       "      <td>33577</td>\n",
       "    </tr>\n",
       "    <tr>\n",
       "      <th>2399</th>\n",
       "      <td>260000</td>\n",
       "      <td>155322</td>\n",
       "    </tr>\n",
       "    <tr>\n",
       "      <th>416</th>\n",
       "      <td>5000</td>\n",
       "      <td>1851</td>\n",
       "    </tr>\n",
       "    <tr>\n",
       "      <th>1744</th>\n",
       "      <td>6000</td>\n",
       "      <td>-8140</td>\n",
       "    </tr>\n",
       "    <tr>\n",
       "      <th>3291</th>\n",
       "      <td>16500</td>\n",
       "      <td>69017</td>\n",
       "    </tr>\n",
       "    <tr>\n",
       "      <th>1803</th>\n",
       "      <td>6500</td>\n",
       "      <td>-7492</td>\n",
       "    </tr>\n",
       "    <tr>\n",
       "      <th>1514</th>\n",
       "      <td>15000</td>\n",
       "      <td>-1959</td>\n",
       "    </tr>\n",
       "    <tr>\n",
       "      <th>2019</th>\n",
       "      <td>5000</td>\n",
       "      <td>-11738</td>\n",
       "    </tr>\n",
       "    <tr>\n",
       "      <th>2592</th>\n",
       "      <td>14000</td>\n",
       "      <td>-1742</td>\n",
       "    </tr>\n",
       "    <tr>\n",
       "      <th>33</th>\n",
       "      <td>5000</td>\n",
       "      <td>9465</td>\n",
       "    </tr>\n",
       "    <tr>\n",
       "      <th>3372</th>\n",
       "      <td>12000</td>\n",
       "      <td>17719</td>\n",
       "    </tr>\n",
       "    <tr>\n",
       "      <th>3926</th>\n",
       "      <td>25000</td>\n",
       "      <td>27364</td>\n",
       "    </tr>\n",
       "    <tr>\n",
       "      <th>1522</th>\n",
       "      <td>25000</td>\n",
       "      <td>60581</td>\n",
       "    </tr>\n",
       "    <tr>\n",
       "      <th>472</th>\n",
       "      <td>7500</td>\n",
       "      <td>3411</td>\n",
       "    </tr>\n",
       "    <tr>\n",
       "      <th>4163</th>\n",
       "      <td>6000</td>\n",
       "      <td>-26474</td>\n",
       "    </tr>\n",
       "    <tr>\n",
       "      <th>1505</th>\n",
       "      <td>17000</td>\n",
       "      <td>26752</td>\n",
       "    </tr>\n",
       "    <tr>\n",
       "      <th>227</th>\n",
       "      <td>7000</td>\n",
       "      <td>3685</td>\n",
       "    </tr>\n",
       "    <tr>\n",
       "      <th>3336</th>\n",
       "      <td>13000</td>\n",
       "      <td>17993</td>\n",
       "    </tr>\n",
       "    <tr>\n",
       "      <th>742</th>\n",
       "      <td>320000</td>\n",
       "      <td>195115</td>\n",
       "    </tr>\n",
       "    <tr>\n",
       "      <th>3618</th>\n",
       "      <td>14000</td>\n",
       "      <td>20412</td>\n",
       "    </tr>\n",
       "    <tr>\n",
       "      <th>2268</th>\n",
       "      <td>6000</td>\n",
       "      <td>-7868</td>\n",
       "    </tr>\n",
       "    <tr>\n",
       "      <th>1315</th>\n",
       "      <td>60000</td>\n",
       "      <td>76970</td>\n",
       "    </tr>\n",
       "    <tr>\n",
       "      <th>4178</th>\n",
       "      <td>14000</td>\n",
       "      <td>405</td>\n",
       "    </tr>\n",
       "    <tr>\n",
       "      <th>969</th>\n",
       "      <td>32000</td>\n",
       "      <td>68956</td>\n",
       "    </tr>\n",
       "    <tr>\n",
       "      <th>670</th>\n",
       "      <td>65000</td>\n",
       "      <td>103557</td>\n",
       "    </tr>\n",
       "    <tr>\n",
       "      <th>589</th>\n",
       "      <td>350000</td>\n",
       "      <td>206728</td>\n",
       "    </tr>\n",
       "    <tr>\n",
       "      <th>1873</th>\n",
       "      <td>15000</td>\n",
       "      <td>42719</td>\n",
       "    </tr>\n",
       "  </tbody>\n",
       "</table>\n",
       "</div>"
      ],
      "text/plain": [
       "      Original Pice Predicted Price\n",
       "1566          16000           30896\n",
       "3159          12000           18477\n",
       "538           28000           67717\n",
       "2630           8000           75666\n",
       "4418          46000           89673\n",
       "4679          17000           15613\n",
       "1181          57000           82395\n",
       "1957           9500           15140\n",
       "1344         400000          183739\n",
       "3410          15000            4445\n",
       "3814          10000           -7415\n",
       "4080          12000           -2982\n",
       "1588          27000           34595\n",
       "2092          16000            -673\n",
       "179           15000           36368\n",
       "718            8500           47885\n",
       "3792         140000          116535\n",
       "4031          12000          -11183\n",
       "4253           6000            6754\n",
       "2323          60000           88950\n",
       "1894          38000           42890\n",
       "4197           7500          -24813\n",
       "555           23000           57771\n",
       "3439          14000           33577\n",
       "2399         260000          155322\n",
       "416            5000            1851\n",
       "1744           6000           -8140\n",
       "3291          16500           69017\n",
       "1803           6500           -7492\n",
       "1514          15000           -1959\n",
       "2019           5000          -11738\n",
       "2592          14000           -1742\n",
       "33             5000            9465\n",
       "3372          12000           17719\n",
       "3926          25000           27364\n",
       "1522          25000           60581\n",
       "472            7500            3411\n",
       "4163           6000          -26474\n",
       "1505          17000           26752\n",
       "227            7000            3685\n",
       "3336          13000           17993\n",
       "742          320000          195115\n",
       "3618          14000           20412\n",
       "2268           6000           -7868\n",
       "1315          60000           76970\n",
       "4178          14000             405\n",
       "969           32000           68956\n",
       "670           65000          103557\n",
       "589          350000          206728\n",
       "1873          15000           42719"
      ]
     },
     "execution_count": 54,
     "metadata": {},
     "output_type": "execute_result"
    }
   ],
   "source": [
    "y_pred = [f\"{val:.0f}\" for val in y_pred]\n",
    "comparison_df = pd.DataFrame({\n",
    "    \"Original Pice\": y_test,\n",
    "    \"Predicted Price\": y_pred\n",
    "})\n",
    "\n",
    "comparison_df.head(50)"
   ]
  },
  {
   "cell_type": "code",
   "execution_count": null,
   "id": "1ff0cecc-9fad-4121-b768-c16651cadb56",
   "metadata": {},
   "outputs": [],
   "source": []
  }
 ],
 "metadata": {
  "kernelspec": {
   "display_name": "Python 3 (ipykernel)",
   "language": "python",
   "name": "python3"
  },
  "language_info": {
   "codemirror_mode": {
    "name": "ipython",
    "version": 3
   },
   "file_extension": ".py",
   "mimetype": "text/x-python",
   "name": "python",
   "nbconvert_exporter": "python",
   "pygments_lexer": "ipython3",
   "version": "3.11.5"
  }
 },
 "nbformat": 4,
 "nbformat_minor": 5
}
